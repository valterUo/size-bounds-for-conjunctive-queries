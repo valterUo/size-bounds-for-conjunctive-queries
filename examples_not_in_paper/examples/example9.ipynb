{
 "cells": [
  {
   "cell_type": "code",
   "execution_count": 1,
   "metadata": {},
   "outputs": [],
   "source": [
    "import itertools\n",
    "\n",
    "bound = 4\n",
    "elements = [\"A\", \"B\", \"X\", \"Y\", \"C\"]\n",
    "basis = [elements, \n",
    "         [\"A\", \"X\"],\n",
    "         [\"B\", \"X\"],\n",
    "         [\"X\", \"Y\"],\n",
    "         [\"A\", \"Y\"],\n",
    "         [\"B\", \"Y\"],\n",
    "         [\"C\"],\n",
    "         [\"X\"],\n",
    "         [\"Y\"],\n",
    "         [\"A\"],\n",
    "         [\"B\"]]\n",
    "\n",
    "polymatroid = {}\n",
    "for i in range(0, len(elements) + 1):\n",
    "    for subset in itertools.combinations(elements, i):\n",
    "        if len(subset) == 0:\n",
    "            polymatroid[frozenset(subset)] = 0\n",
    "        elif list(subset)== elements:\n",
    "            polymatroid[frozenset(subset)] = bound\n",
    "        else:\n",
    "            if list(subset) in basis:\n",
    "                if len(subset) == 1:\n",
    "                    polymatroid[frozenset(subset)] = 1\n",
    "                else:\n",
    "                    polymatroid[frozenset(subset)] = len(subset) + 1\n",
    "            else:\n",
    "                # Find the smallest basis set that contains subset\n",
    "                min_basis = []\n",
    "                for b in basis:\n",
    "                    if set(subset).issubset(b):\n",
    "                        if len(min_basis) == 0 or len(b) < len(min_basis):\n",
    "                            min_basis = b\n",
    "                if min_basis == elements:\n",
    "                    polymatroid[frozenset(subset)] = bound\n",
    "                else:\n",
    "                    polymatroid[frozenset(subset)] = len(min_basis) + 1"
   ]
  },
  {
   "cell_type": "code",
   "execution_count": 2,
   "metadata": {},
   "outputs": [
    {
     "name": "stdout",
     "output_type": "stream",
     "text": [
      "frozenset() 0\n",
      "frozenset({'A'}) 2.1\n",
      "frozenset({'B'}) 2.1\n",
      "frozenset({'X'}) 2.1\n",
      "frozenset({'Y'}) 2.1\n",
      "frozenset({'C'}) 2.1\n",
      "frozenset({'A', 'B'}) 4\n",
      "frozenset({'A', 'X'}) 3\n",
      "frozenset({'A', 'Y'}) 3\n",
      "frozenset({'A', 'C'}) 4\n",
      "frozenset({'B', 'X'}) 3\n",
      "frozenset({'B', 'Y'}) 3\n",
      "frozenset({'B', 'C'}) 4\n",
      "frozenset({'X', 'Y'}) 3\n",
      "frozenset({'X', 'C'}) 4\n",
      "frozenset({'Y', 'C'}) 4\n",
      "frozenset({'A', 'B', 'X'}) 4\n",
      "frozenset({'A', 'Y', 'B'}) 4\n",
      "frozenset({'A', 'B', 'C'}) 4\n",
      "frozenset({'A', 'Y', 'X'}) 4\n",
      "frozenset({'A', 'X', 'C'}) 4\n",
      "frozenset({'A', 'Y', 'C'}) 4\n",
      "frozenset({'B', 'Y', 'X'}) 4\n",
      "frozenset({'B', 'X', 'C'}) 4\n",
      "frozenset({'B', 'Y', 'C'}) 4\n",
      "frozenset({'X', 'Y', 'C'}) 4\n",
      "frozenset({'A', 'Y', 'B', 'X'}) 4\n",
      "frozenset({'A', 'B', 'X', 'C'}) 4\n",
      "frozenset({'A', 'Y', 'B', 'C'}) 4\n",
      "frozenset({'A', 'Y', 'X', 'C'}) 4\n",
      "frozenset({'B', 'Y', 'X', 'C'}) 4\n",
      "frozenset({'Y', 'C', 'A', 'B', 'X'}) 4\n"
     ]
    }
   ],
   "source": [
    "for e in polymatroid:\n",
    "    print(e, polymatroid[e])"
   ]
  },
  {
   "cell_type": "code",
   "execution_count": 3,
   "metadata": {},
   "outputs": [
    {
     "name": "stdout",
     "output_type": "stream",
     "text": [
      "Submodularity violated for frozenset({'A', 'X'}) frozenset({'A', 'Y'}) 3 3 4 2.1\n",
      "Submodularity violated for frozenset({'A', 'X'}) frozenset({'B', 'X'}) 3 3 4 2.1\n",
      "Submodularity violated for frozenset({'A', 'X'}) frozenset({'X', 'Y'}) 3 3 4 2.1\n",
      "Submodularity violated for frozenset({'A', 'Y'}) frozenset({'A', 'X'}) 3 3 4 2.1\n",
      "Submodularity violated for frozenset({'A', 'Y'}) frozenset({'B', 'Y'}) 3 3 4 2.1\n",
      "Submodularity violated for frozenset({'A', 'Y'}) frozenset({'X', 'Y'}) 3 3 4 2.1\n",
      "Submodularity violated for frozenset({'B', 'X'}) frozenset({'A', 'X'}) 3 3 4 2.1\n",
      "Submodularity violated for frozenset({'B', 'X'}) frozenset({'B', 'Y'}) 3 3 4 2.1\n",
      "Submodularity violated for frozenset({'B', 'X'}) frozenset({'X', 'Y'}) 3 3 4 2.1\n",
      "Submodularity violated for frozenset({'B', 'Y'}) frozenset({'A', 'Y'}) 3 3 4 2.1\n",
      "Submodularity violated for frozenset({'B', 'Y'}) frozenset({'B', 'X'}) 3 3 4 2.1\n",
      "Submodularity violated for frozenset({'B', 'Y'}) frozenset({'X', 'Y'}) 3 3 4 2.1\n",
      "Submodularity violated for frozenset({'X', 'Y'}) frozenset({'A', 'X'}) 3 3 4 2.1\n",
      "Submodularity violated for frozenset({'X', 'Y'}) frozenset({'A', 'Y'}) 3 3 4 2.1\n",
      "Submodularity violated for frozenset({'X', 'Y'}) frozenset({'B', 'X'}) 3 3 4 2.1\n",
      "Submodularity violated for frozenset({'X', 'Y'}) frozenset({'B', 'Y'}) 3 3 4 2.1\n"
     ]
    }
   ],
   "source": [
    "# Check the polymatroid axioms\n",
    "\n",
    "# Monotonicity\n",
    "for A in polymatroid:\n",
    "    for B in polymatroid:\n",
    "        if A.issubset(B):\n",
    "            if polymatroid[A] > polymatroid[B]:\n",
    "                print(\"Monotonicity violated for\", A, B, polymatroid[A], polymatroid[B])\n",
    "                \n",
    "# Submodularity\n",
    "for A in polymatroid:\n",
    "    for B in polymatroid:\n",
    "        if polymatroid[A.union(B)] + polymatroid[A.intersection(B)] > polymatroid[A] + polymatroid[B]:\n",
    "            print(\"Submodularity violated for\", A, B, polymatroid[A], polymatroid[B], polymatroid[A.union(B)], polymatroid[A.intersection(B)])\n",
    "            \n",
    "# Functional dependencies\n",
    "fds = [[[\"A\", \"B\"], [\"X\", \"Y\", \"C\"]], \n",
    "           [[\"B\", \"X\", \"Y\"], [\"A\", \"C\"]], \n",
    "           [[\"X\", \"C\"], [\"A\", \"B\", \"Y\"]], \n",
    "           [[\"A\", \"X\", \"Y\"], [\"B\", \"C\"]], \n",
    "           [[\"A\", \"C\"], [\"B\", \"X\", \"Y\"]], \n",
    "           [[\"Y\", \"C\"], [\"A\", \"B\", \"X\"]]]\n",
    "for Y, x in fds:\n",
    "    Yx = Y + x\n",
    "    if polymatroid[frozenset(Yx)] != polymatroid[frozenset(Y)]:\n",
    "        print(\"Functional dependency violated for\", Y, x, Yx, polymatroid[frozenset(Y)], polymatroid[frozenset(Yx)])\n",
    "        \n",
    "             "
   ]
  }
 ],
 "metadata": {
  "kernelspec": {
   "display_name": "myenv",
   "language": "python",
   "name": "python3"
  },
  "language_info": {
   "codemirror_mode": {
    "name": "ipython",
    "version": 3
   },
   "file_extension": ".py",
   "mimetype": "text/x-python",
   "name": "python",
   "nbconvert_exporter": "python",
   "pygments_lexer": "ipython3",
   "version": "3.12.6"
  }
 },
 "nbformat": 4,
 "nbformat_minor": 2
}
