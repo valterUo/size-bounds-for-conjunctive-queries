{
 "cells": [
  {
   "cell_type": "code",
   "execution_count": 1,
   "metadata": {},
   "outputs": [
    {
     "name": "stdout",
     "output_type": "stream",
     "text": [
      "Set parameter Username\n",
      "Academic license - for non-commercial use only - expires 2025-11-26\n",
      "Gurobi Optimizer version 12.0.0 build v12.0.0rc1 (win64 - Windows 10.0 (19045.2))\n",
      "\n",
      "CPU model: AMD Ryzen 7 5800H with Radeon Graphics, instruction set [SSE2|AVX|AVX2]\n",
      "Thread count: 8 physical cores, 16 logical processors, using up to 16 threads\n",
      "\n",
      "Optimize a model with 8 rows, 255 columns and 13 nonzeros\n",
      "Model fingerprint: 0x3240ac2e\n",
      "Coefficient statistics:\n",
      "  Matrix range     [1e+00, 1e+00]\n",
      "  Objective range  [1e+00, 1e+00]\n",
      "  Bounds range     [1e+00, 3e+00]\n",
      "  RHS range        [1e+00, 1e+00]\n",
      "Presolve removed 8 rows and 255 columns\n",
      "Presolve time: 0.01s\n",
      "Presolve: All rows and columns removed\n",
      "Iteration    Objective       Primal Inf.    Dual Inf.      Time\n",
      "       0    3.0000000e+00   0.000000e+00   0.000000e+00      0s\n",
      "\n",
      "Solved in 0 iterations and 0.01 seconds (0.00 work units)\n",
      "Optimal objective  3.000000000e+00\n",
      "Optimal solution found!\n",
      "Objective value = 3.0\n"
     ]
    }
   ],
   "source": [
    "import itertools\n",
    "import math\n",
    "from gurobipy import Model, GRB\n",
    "\n",
    "def solve_linear_program():\n",
    "    # Create a Gurobi model\n",
    "    model = Model(\"Linear_Programming_Example\")\n",
    "\n",
    "    # Define decision variables\n",
    "    # For example, x and y are non-negative continuous variables\n",
    "    attributes = [\"A\", \"B\", \"C\", \"D\", \"E\", \"F\", \"G\", \"H\"]\n",
    "    variables = {}\n",
    "    for i in range(1, len(attributes) + 1):\n",
    "        for subset in itertools.combinations(attributes, i):\n",
    "            name = \"\".join(subset)\n",
    "            x = model.addVar(lb=0, ub=math.log(len(subset), 2), name=name)\n",
    "            variables[frozenset(subset)] = x\n",
    "    \n",
    "    model.setObjective(variables[frozenset(attributes)], GRB.MAXIMIZE)\n",
    "\n",
    "    # Add constraints\n",
    "    #projections = [[\"A\", \"B\"], [\"E\", \"F\"], [\"G\", \"H\"], [\"C\", \"D\"]]\n",
    "    projections = [[\"E\",\"F\",\"G\",\"H\"], [\"A\",\"B\",\"C\",\"E\"], [\"B\",\"C\",\"D\",\"G\"]]\n",
    "    for rel in projections:\n",
    "        model.addConstr(variables[frozenset(rel)] <= 1)\n",
    "        \n",
    "    fds = [[[\"A\", \"B\", \"C\"], \"D\"], [[\"A\", \"B\", \"E\"], \"F\"], [[\"C\", \"D\", \"E\"], \"F\"], [[\"A\", \"B\", \"G\"], \"H\"], [[\"C\", \"D\", \"G\"], \"H\"]]\n",
    "    for Y, x in fds:\n",
    "        Yx = Y + [x]\n",
    "        model.addConstr(variables[frozenset(Yx)] - variables[frozenset(Y)] == 0)\n",
    "\n",
    "    # Optimize the model\n",
    "    model.optimize()\n",
    "\n",
    "    # Check optimization status\n",
    "    if model.status == GRB.OPTIMAL:\n",
    "        print(\"Optimal solution found!\")\n",
    "        print(f\"Objective value = {model.objVal}\")\n",
    "    elif model.status == GRB.INFEASIBLE:\n",
    "        print(\"The model is infeasible.\")\n",
    "    elif model.status == GRB.UNBOUNDED:\n",
    "        print(\"The model is unbounded.\")\n",
    "    else:\n",
    "        print(f\"Optimization ended with status {model.status}\")\n",
    "\n",
    "# Call the function\n",
    "solve_linear_program()\n"
   ]
  }
 ],
 "metadata": {
  "kernelspec": {
   "display_name": "myenv",
   "language": "python",
   "name": "python3"
  },
  "language_info": {
   "codemirror_mode": {
    "name": "ipython",
    "version": 3
   },
   "file_extension": ".py",
   "mimetype": "text/x-python",
   "name": "python",
   "nbconvert_exporter": "python",
   "pygments_lexer": "ipython3",
   "version": "3.12.6"
  }
 },
 "nbformat": 4,
 "nbformat_minor": 2
}
