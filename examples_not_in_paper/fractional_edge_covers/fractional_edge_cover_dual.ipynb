{
 "cells": [
  {
   "cell_type": "code",
   "execution_count": 1,
   "metadata": {},
   "outputs": [
    {
     "name": "stdout",
     "output_type": "stream",
     "text": [
      "Set parameter Username\n",
      "Academic license - for non-commercial use only - expires 2025-11-26\n"
     ]
    },
    {
     "name": "stdout",
     "output_type": "stream",
     "text": [
      "Gurobi Optimizer version 12.0.0 build v12.0.0rc1 (win64 - Windows 10.0 (19045.2))\n",
      "\n",
      "CPU model: AMD Ryzen 7 5800H with Radeon Graphics, instruction set [SSE2|AVX|AVX2]\n",
      "Thread count: 8 physical cores, 16 logical processors, using up to 16 threads\n",
      "\n",
      "Optimize a model with 3 rows, 4 columns and 6 nonzeros\n",
      "Model fingerprint: 0xba0d4d51\n",
      "Coefficient statistics:\n",
      "  Matrix range     [1e+00, 1e+00]\n",
      "  Objective range  [1e+00, 1e+00]\n",
      "  Bounds range     [0e+00, 0e+00]\n",
      "  RHS range        [1e+00, 1e+00]\n",
      "Presolve removed 3 rows and 4 columns\n",
      "\n",
      "CPU model: AMD Ryzen 7 5800H with Radeon Graphics, instruction set [SSE2|AVX|AVX2]\n",
      "Thread count: 8 physical cores, 16 logical processors, using up to 16 threads\n",
      "\n",
      "Optimize a model with 3 rows, 4 columns and 6 nonzeros\n",
      "Model fingerprint: 0xba0d4d51\n",
      "Coefficient statistics:\n",
      "  Matrix range     [1e+00, 1e+00]\n",
      "  Objective range  [1e+00, 1e+00]\n",
      "  Bounds range     [0e+00, 0e+00]\n",
      "  RHS range        [1e+00, 1e+00]\n",
      "Presolve removed 3 rows and 4 columns\n",
      "Presolve time: 0.00s\n",
      "Presolve: All rows and columns removed\n",
      "Iteration    Objective       Primal Inf.    Dual Inf.      Time\n",
      "       0    2.0000000e+00   0.000000e+00   0.000000e+00      0s\n",
      "\n",
      "Solved in 0 iterations and 0.01 seconds (0.00 work units)\n",
      "Optimal objective  2.000000000e+00\n",
      "Optimal solution found!\n",
      "Objective value = 2.0\n",
      "x = 1.0\n",
      "y = 0.0\n",
      "z = 0.0\n",
      "u = 1.0\n"
     ]
    }
   ],
   "source": [
    "from gurobipy import Model, GRB\n",
    "\n",
    "def solve_linear_program():\n",
    "    model = Model(\"Linear_Programming_Example\")\n",
    "    \n",
    "    #attributes = [\"x\", \"y\", \"z\"]\n",
    "    #relations = [[\"x\", \"y\"], [\"y\", \"z\"], [\"z\", \"x\"]]\n",
    "    \n",
    "    #attributes = [\"A\", \"B\", \"C\", \"D\", \"E\", \"F\", \"G\", \"H\"]\n",
    "    #relations = [[\"A\",\"B\",\"C\",\"D\"], [\"A\",\"B\",\"E\",\"F\"], [\"C\",\"D\",\"E\",\"F\"], [\"A\",\"B\",\"G\",\"H\"], [\"C\",\"D\",\"G\",\"H\"]]\n",
    "    \n",
    "    #attributes = [\"x\", \"y\", \"z\"]\n",
    "    #relations = [[\"x\", \"y\"], [\"y\", \"z\"]]\n",
    "    \n",
    "    attributes = [\"x\", \"y\", \"z\", \"u\"]\n",
    "    relations = [[\"x\", \"y\"], [\"y\", \"z\"], [\"z\", \"u\"]]\n",
    "    \n",
    "    #attributes = [\"x\", \"y\", \"z\", \"u\"]\n",
    "    #relations = [[\"x\", \"y\"], [\"z\", \"u\"]]\n",
    "    \n",
    "    #attributes = [\"A\", \"B\", \"C\", \"D\", \"E\"]\n",
    "    #relations = [[\"A\", \"B\"], [\"B\", \"C\"], [\"C\", \"D\"], [\"D\", \"E\"]]\n",
    "    \n",
    "    variables = {}\n",
    "    for a in attributes:\n",
    "        name = \"\".join(a)\n",
    "        x = model.addVar(lb=0, name=name)\n",
    "        variables[frozenset(a)] = x\n",
    "    \n",
    "    objective = sum(variables[frozenset(a)] for a in attributes)\n",
    "    \n",
    "    model.setObjective(objective, GRB.MAXIMIZE)\n",
    "    \n",
    "    for rel in relations:\n",
    "        #relations_with_a = [rel for rel in relations if a in rel]\n",
    "        constraint = sum(variables[frozenset(a)] for a in rel) <= 1\n",
    "        model.addConstr(constraint)\n",
    "\n",
    "    model.write(\"Linear_Programming_Example.lp\")\n",
    "    model.optimize()\n",
    "\n",
    "    if model.status == GRB.OPTIMAL:\n",
    "        print(\"Optimal solution found!\")\n",
    "        print(f\"Objective value = {model.objVal}\")\n",
    "        for v in model.getVars():\n",
    "            print(f\"{v.varName} = {v.x}\")\n",
    "\n",
    "solve_linear_program()\n"
   ]
  }
 ],
 "metadata": {
  "kernelspec": {
   "display_name": "myenv",
   "language": "python",
   "name": "python3"
  },
  "language_info": {
   "codemirror_mode": {
    "name": "ipython",
    "version": 3
   },
   "file_extension": ".py",
   "mimetype": "text/x-python",
   "name": "python",
   "nbconvert_exporter": "python",
   "pygments_lexer": "ipython3",
   "version": "3.12.6"
  }
 },
 "nbformat": 4,
 "nbformat_minor": 2
}
