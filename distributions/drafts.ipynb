{
 "cells": [
  {
   "cell_type": "code",
   "execution_count": null,
   "metadata": {
    "vscode": {
     "languageId": "plaintext"
    }
   },
   "outputs": [],
   "source": [
    "def weighted_sum_by_indices(indices, weights):\n",
    "    max_index = np.max(indices)\n",
    "    result = np.zeros((max_index + 1,), dtype=weights.dtype)\n",
    "    for i in range(len(indices)):\n",
    "        result[indices[i]] += weights[i]\n",
    "    return result\n",
    "\n",
    "def compute_marginal_numpy(bitstrings, probabilities, keep_indices):\n",
    "    bitstrings_array = np.array([list(bstring.numpy()) for bstring in bitstrings], requires_grad = False)  # Shape (N, num_bits)\n",
    "    marginal_bitstrings = bitstrings_array[:, keep_indices]  # Select relevant columns\n",
    "    marginal_bitstrings = np.apply_along_axis(''.join, 1, marginal_bitstrings.numpy())\n",
    "    unique_bitstrings, indices = np.unique(marginal_bitstrings.numpy(), return_inverse=True)\n",
    "    marginal_probabilities = np.bincount(indices, weights=probabilities.numpy())\n",
    "    return marginal_probabilities"
   ]
  },
  {
   "cell_type": "code",
   "execution_count": null,
   "metadata": {
    "vscode": {
     "languageId": "plaintext"
    }
   },
   "outputs": [],
   "source": [
    "distribution = {\n",
    "    '00000': 0.1, \n",
    "    '00001': 0.15, \n",
    "    '00010': 0.2, \n",
    "    '00100': 0.05, \n",
    "    '01001': 0.3, \n",
    "    '11001': 0.2\n",
    "}\n",
    "keep_indices = [2, 3, 4]  # Keep last 3 bits\n",
    "\n",
    "bitstrings = np.array(list(distribution.keys()), requires_grad=False)\n",
    "probabilities = np.array(list(distribution.values()), requires_grad=False)\n",
    "result_numpy = compute_marginal_numpy(bitstrings, probabilities, keep_indices)\n",
    "print(result_numpy)\n",
    "reference = compute_marginal(distribution, keep_indices)\n",
    "print(reference)\n",
    "\n",
    "ent = entropy(list(reference.values()))\n",
    "print(ent)"
   ]
  },
  {
   "cell_type": "code",
   "execution_count": null,
   "metadata": {
    "vscode": {
     "languageId": "plaintext"
    }
   },
   "outputs": [],
   "source": [
    "def compute_marginal(distribution, keep_indices):\n",
    "    marginal_distribution = defaultdict(float)\n",
    "    for bstring in distribution:\n",
    "        marginal_bitstring = ''.join([bstring[i] for i in keep_indices])\n",
    "        marginal_distribution[marginal_bitstring] += distribution[bstring]\n",
    "    return marginal_distribution"
   ]
  }
 ],
 "metadata": {
  "language_info": {
   "name": "python"
  }
 },
 "nbformat": 4,
 "nbformat_minor": 2
}
